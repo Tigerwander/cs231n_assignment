{
 "cells": [
  {
   "cell_type": "code",
   "execution_count": null,
   "metadata": {
    "collapsed": true
   },
   "outputs": [],
   "source": [
    "results = [ii for range(5)]\n",
    "x = [ii for range(-10, 10)]\n",
    "y = []\n",
    "for result in results:\n",
    "    curr = []\n",
    "    for x_ in x:\n",
    "        curr.append(x_ * x_ - 1)\n",
    "    y.append(curr)\n",
    "    \n",
    "import matplotlib.pyplot as plt\n",
    "for y_ in y:\n",
    "    plt.plot(x,)"
   ]
  }
 ],
 "metadata": {
  "kernelspec": {
   "display_name": "Python 3",
   "language": "python",
   "name": "python3"
  },
  "language_info": {
   "codemirror_mode": {
    "name": "ipython",
    "version": 3
   },
   "file_extension": ".py",
   "mimetype": "text/x-python",
   "name": "python",
   "nbconvert_exporter": "python",
   "pygments_lexer": "ipython3",
   "version": "3.6.2"
  }
 },
 "nbformat": 4,
 "nbformat_minor": 0
}
